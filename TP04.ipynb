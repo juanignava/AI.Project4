{
 "cells": [
  {
   "cell_type": "markdown",
   "metadata": {},
   "source": [
    "### 1.1) Implementación del algoritmo K-means sin bibliotecas"
   ]
  },
  {
   "cell_type": "markdown",
   "metadata": {},
   "source": [
    "Importación de la librerías necesarias para mostrar los resultados del análisis."
   ]
  },
  {
   "cell_type": "code",
   "execution_count": 11,
   "metadata": {},
   "outputs": [],
   "source": [
    "import numpy as np\n",
    "import matplotlib.pyplot as plt\n",
    "from sklearn.preprocessing import StandardScaler\n",
    "from numpy.random import uniform\n",
    "from sklearn.datasets import make_blobs\n",
    "import seaborn as sns\n",
    "import random\n",
    "import pandas as pd"
   ]
  },
  {
   "cell_type": "markdown",
   "metadata": {},
   "source": [
    "Definición de la clase que implementa KMeans. Además también se crea un método que define la función euclidea."
   ]
  },
  {
   "cell_type": "code",
   "execution_count": 25,
   "metadata": {},
   "outputs": [
    {
     "name": "stdout",
     "output_type": "stream",
     "text": [
      "[ 6.72465737e+00  4.93571829e+00 -6.95672890e+00  4.14445643e+00\n",
      " -6.35768563e+00  5.93040859e+00 -6.86662530e+00 -2.30033403e+00\n",
      " -8.25729656e+00  1.22977950e+00 -2.14756160e+00  6.63033968e+00\n",
      "  4.15533361e+00  7.27297263e+00 -6.66553345e+00  7.33899681e+00\n",
      " -3.98771961e+00  2.13581758e+00 -2.26723535e+00  4.33695880e+00\n",
      "  2.22135993e+00 -2.21307735e+00  8.22003828e-01 -7.10308998e+00\n",
      "  1.30699653e+00 -3.21125072e+00 -6.08859524e+00 -3.31769123e+00\n",
      "  5.88972015e+00 -6.65216726e+00 -2.72886951e+00 -7.55965191e+00\n",
      "  6.74584878e+00 -6.91433896e+00 -5.01385268e+00  6.76914845e+00\n",
      "  8.09999642e+00 -2.25164723e+00 -7.12501531e+00  2.30329210e+00\n",
      " -1.77073104e+00 -7.72642091e+00  5.82663242e+00 -7.94193090e+00\n",
      " -2.54502366e+00  5.82335562e+00 -3.18611962e+00 -6.52183983e+00\n",
      "  1.19330522e+00 -6.25395984e+00 -2.98837186e+00 -3.52202874e+00\n",
      " -2.52269485e+00  5.80913097e+00  7.16819933e+00 -2.67048333e+00\n",
      " -3.03895783e+00  3.78775448e+00  3.28921138e+00  6.17781451e+00\n",
      "  2.06787207e+00 -2.16557933e+00 -3.05358035e+00 -6.29277010e+00\n",
      "  7.50651244e+00  1.43293548e+00  5.32861961e+00  2.00139864e+00\n",
      "  1.24947502e+00  1.09536976e+00  7.33080579e+00 -6.77997583e+00\n",
      "  6.74652891e+00  7.47426916e+00  1.76973208e+00 -7.85430886e+00\n",
      "  2.97630200e+00  2.56939762e+00  3.18546399e+00 -1.69667180e+00\n",
      "  5.64283543e+00 -3.92456837e+00 -7.76348463e+00 -2.42215055e+00\n",
      " -2.84235179e-03 -3.10983631e+00  5.05442516e+00  1.58225575e+00\n",
      " -3.34841515e+00 -6.36457950e+00 -1.04354885e+00  1.55036837e+00\n",
      "  6.19878734e+00 -6.81939698e+00 -5.91625106e+00  2.92190011e+00\n",
      "  7.59927665e+00  7.52117345e+00 -6.61974440e+00 -7.66288048e+00]\n"
     ]
    },
    {
     "data": {
      "image/png": "[encoded data removed]",
      "text/plain": [
       "<Figure size 432x288 with 1 Axes>"
      ]
     },
     "metadata": {
      "needs_background": "light"
     },
     "output_type": "display_data"
    },
    {
     "name": "stdout",
     "output_type": "stream",
     "text": [
      "          1         2          3         4  Cluster\n",
      "0  6.724657 -6.430379  -5.388381 -6.478967        1\n",
      "1  4.935718 -4.399345  -6.478041 -5.094093        1\n",
      "2 -6.956729 -6.538958  -8.561637  8.150706        2\n",
      "3  4.144456  5.193917 -11.107680  8.913963        2\n",
      "4 -6.357686 -6.583125  -8.587835  7.669971        2\n"
     ]
    }
   ],
   "source": [
    "def euclidean(point, data):\n",
    "    \"\"\"\n",
    "    Euclidean distance between point & data.\n",
    "    Point has dimensions (m,), data has dimensions (n,m), and output will be of size (n,).\n",
    "    \"\"\"\n",
    "    return np.sqrt(np.sum((point - data)**2, axis=1))\n",
    "class KMeans:\n",
    "    def __init__(self, n_clusters=8, max_iter=300):\n",
    "        self.n_clusters = n_clusters\n",
    "        self.max_iter = max_iter\n",
    "    def fit(self, X_train):\n",
    "        # Initialize the centroids, using the \"k-means++\" method, where a random datapoint is selected as the first,\n",
    "        # then the rest are initialized w/ probabilities proportional to their distances to the first\n",
    "        # Pick a random point from train data for first centroid\n",
    "        self.centroids = [random.choice(X_train)]\n",
    "        for _ in range(self.n_clusters-1):\n",
    "            # Calculate distances from points to the centroids\n",
    "            dists = np.sum([euclidean(centroid, X_train) for centroid in self.centroids], axis=0)\n",
    "            # Normalize the distances\n",
    "            dists /= np.sum(dists)\n",
    "            # Choose remaining points based on their distances\n",
    "            new_centroid_idx, = np.random.choice(range(len(X_train)), size=1, p=dists)\n",
    "            self.centroids += [X_train[new_centroid_idx]]\n",
    "        # This initial method of randomly selecting centroid starts is less effective\n",
    "        # min_, max_ = np.min(X_train, axis=0), np.max(X_train, axis=0)\n",
    "        # self.centroids = [uniform(min_, max_) for _ in range(self.n_clusters)]\n",
    "        # Iterate, adjusting centroids until converged or until passed max_iter\n",
    "        iteration = 0\n",
    "        prev_centroids = None\n",
    "        while np.not_equal(self.centroids, prev_centroids).any() and iteration < self.max_iter:\n",
    "            # Sort each datapoint, assigning to nearest centroid\n",
    "            sorted_points = [[] for _ in range(self.n_clusters)]\n",
    "            for x in X_train:\n",
    "                dists = euclidean(x, self.centroids)\n",
    "                centroid_idx = np.argmin(dists)\n",
    "                sorted_points[centroid_idx].append(x)\n",
    "            # Push current centroids to previous, reassign centroids as mean of the points belonging to them\n",
    "            prev_centroids = self.centroids\n",
    "            self.centroids = [np.mean(cluster, axis=0) for cluster in sorted_points]\n",
    "            for i, centroid in enumerate(self.centroids):\n",
    "                if np.isnan(centroid).any():  # Catch any np.nans, resulting from a centroid having no points\n",
    "                    self.centroids[i] = prev_centroids[i]\n",
    "            iteration += 1\n",
    "    def evaluate(self, X):\n",
    "        centroids = []\n",
    "        centroid_idxs = []\n",
    "        for x in X:\n",
    "            dists = euclidean(x, self.centroids)\n",
    "            centroid_idx = np.argmin(dists)\n",
    "            centroids.append(self.centroids[centroid_idx])\n",
    "            centroid_idxs.append(centroid_idx)\n",
    "        return centroids, centroid_idxs\n",
    "# Create a dataset of 2D distributions\n",
    "centers = 4\n",
    "X_train, true_labels = make_blobs(n_samples=100, centers=centers, random_state=42, n_features=4)\n",
    "# Se grafican los datos\n",
    "plt.scatter(\n",
    "   X_train[:, 0], X_train[:, 1],\n",
    "   c='lightgreen', marker='o',\n",
    "   edgecolor='black', s = 60\n",
    ")\n",
    "plt.show()\n",
    "# Fit centroids to dataset\n",
    "kmeans = KMeans(n_clusters=centers)\n",
    "kmeans.fit(X_train)\n",
    "df = pd.DataFrame(X_train, columns=['1', '2', '3', '4'])\n",
    "\n",
    "df['Cluster'] = kmeans.evaluate(X_train)[1]\n",
    "print(df.head())\n"
   ]
  },
  {
   "cell_type": "markdown",
   "metadata": {},
   "source": [
    "### 1.2) Implementación de DBSCAN sin bibliotecas"
   ]
  },
  {
   "cell_type": "code",
   "execution_count": 26,
   "metadata": {},
   "outputs": [],
   "source": [
    "from sklearn.datasets import make_blobs\n",
    "import matplotlib.pyplot as plt\n",
    "import pandas as pd\n",
    "import numpy as np\n",
    "import random"
   ]
  },
  {
   "cell_type": "markdown",
   "metadata": {},
   "source": [
    "Create the inicial data"
   ]
  },
  {
   "cell_type": "code",
   "execution_count": 39,
   "metadata": {},
   "outputs": [
    {
     "data": {
      "text/plain": [
       "Text(0, 0.5, 'Y')"
      ]
     },
     "execution_count": 39,
     "metadata": {},
     "output_type": "execute_result"
    },
    {
     "data": {
      "image/png": "[encoded data removed]",
      "text/plain": [
       "<Figure size 432x288 with 1 Axes>"
      ]
     },
     "metadata": {
      "needs_background": "light"
     },
     "output_type": "display_data"
    }
   ],
   "source": [
    "centers = [(0, 4, 2), (5, 5, 3) , (8,2, 1)]\n",
    "cluster_std = [1.2, 1, 1.1]\n",
    "\n",
    "X, y= make_blobs(n_samples=200, cluster_std=cluster_std, centers=centers, n_features=3, random_state=1)\n",
    "\n",
    "plt.scatter(X[y == 0, 0], X[y == 0, 1], s=10, label=\"Cluster1\")\n",
    "plt.scatter(X[y == 1, 0], X[y == 1, 1], s=10, label=\"Cluster2\")\n",
    "plt.scatter(X[y == 2, 0], X[y == 2, 1], s=10, label=\"Cluster3\")\n",
    "plt.title(\"Scattered data\")\n",
    "plt.xlabel('X')\n",
    "plt.ylabel('Y')"
   ]
  },
  {
   "cell_type": "code",
   "execution_count": 42,
   "metadata": {},
   "outputs": [
    {
     "data": {
      "text/plain": [
       "<matplotlib.collections.PathCollection at 0x17891f2dd60>"
      ]
     },
     "execution_count": 42,
     "metadata": {},
     "output_type": "execute_result"
    },
    {
     "data": {
      "image/png": "[encoded data removed]",
      "text/plain": [
       "<Figure size 432x288 with 1 Axes>"
      ]
     },
     "metadata": {
      "needs_background": "light"
     },
     "output_type": "display_data"
    }
   ],
   "source": [
    "plt.scatter(X[:,0],X[:,1])"
   ]
  },
  {
   "cell_type": "code",
   "execution_count": 29,
   "metadata": {},
   "outputs": [],
   "source": [
    "def check_core_point(eps,minPts, df, index):\n",
    "    #get points from given index\n",
    "    x, y = df.iloc[index]['X']  ,  df.iloc[index]['Y']\n",
    "    \n",
    "    #check available points within radius\n",
    "    temp =  df[((np.abs(x - df['X']) <= eps) & (np.abs(y - df['Y']) <= eps)) & (df.index != index)]\n",
    "    \n",
    "    #check how many points are present within radius\n",
    "    if len(temp) >= minPts:\n",
    "        #return format (dataframe, is_core, is_border, is_noise)\n",
    "        return (temp.index , True, False, False)\n",
    "    \n",
    "    elif (len(temp) < minPts) and len(temp) > 0:\n",
    "        #return format (dataframe, is_core, is_border, is_noise)\n",
    "        return (temp.index , False, True, False)\n",
    "    \n",
    "    elif len(temp) == 0:\n",
    "        #return format (dataframe, is_core, is_border, is_noise)\n",
    "        return (temp.index , False, False, True)"
   ]
  },
  {
   "cell_type": "code",
   "execution_count": 30,
   "metadata": {},
   "outputs": [],
   "source": [
    "def cluster_with_stack(eps, minPts, df):\n",
    "    \n",
    "    #initiating cluster number\n",
    "    C = 1\n",
    "    #initiating stacks to maintain\n",
    "    current_stack = set()\n",
    "    unvisited = list(df.index)\n",
    "    clusters = []\n",
    "    \n",
    "    \n",
    "    while (len(unvisited) != 0): #run until all points have been visited\n",
    "\n",
    "        #identifier for first point of a cluster\n",
    "        first_point = True\n",
    "        \n",
    "        #choose a random unvisited point\n",
    "        current_stack.add(random.choice(unvisited))\n",
    "        \n",
    "        while len(current_stack) != 0: #run until a cluster is complete\n",
    "            \n",
    "            #pop current point from stack\n",
    "            curr_idx = current_stack.pop()\n",
    "            \n",
    "            #check if point is core, neighbour or border\n",
    "            neigh_indexes, iscore, isborder, isnoise = check_core_point(eps, minPts, df, curr_idx)\n",
    "            \n",
    "            #dealing with an edge case\n",
    "            if (isborder & first_point):\n",
    "                #for first border point, we label it aand its neighbours as noise \n",
    "                clusters.append((curr_idx, 0))\n",
    "                clusters.extend(list(zip(neigh_indexes,[0 for _ in range(len(neigh_indexes))])))\n",
    "                \n",
    "                #label as visited\n",
    "                unvisited.remove(curr_idx)\n",
    "                unvisited = [e for e in unvisited if e not in neigh_indexes]\n",
    "    \n",
    "                continue\n",
    "                \n",
    "            unvisited.remove(curr_idx) #remove point from unvisited list\n",
    "            \n",
    "            \n",
    "            neigh_indexes = set(neigh_indexes) & set(unvisited) #look at only unvisited points\n",
    "            \n",
    "            if iscore: #if current point is a core\n",
    "                first_point = False\n",
    "                \n",
    "                clusters.append((curr_idx,C)) #assign to a cluster\n",
    "                current_stack.update(neigh_indexes) #add neighbours to a stack\n",
    "\n",
    "            elif isborder: #if current point is a border point\n",
    "                clusters.append((curr_idx,C))\n",
    "                \n",
    "                continue\n",
    "\n",
    "            elif isnoise: #if current point is noise\n",
    "                clusters.append((curr_idx, 0))\n",
    "                \n",
    "                continue\n",
    "                \n",
    "        if not first_point:\n",
    "            #increment cluster number\n",
    "            C+=1\n",
    "        \n",
    "    return clusters"
   ]
  },
  {
   "cell_type": "code",
   "execution_count": 43,
   "metadata": {},
   "outputs": [],
   "source": [
    "#radius of the circle defined as 0.6\n",
    "eps = 0.6\n",
    "#minimum neighbouring points set to 3\n",
    "minPts = 3"
   ]
  },
  {
   "cell_type": "code",
   "execution_count": 64,
   "metadata": {},
   "outputs": [
    {
     "name": "stdout",
     "output_type": "stream",
     "text": [
      "          X         Y         Z\n",
      "0  4.334245  3.325804  3.825030\n",
      "1  7.095286  2.793882  0.312124\n",
      "2 -1.287562  5.038489 -0.761846\n",
      "3  2.285590  5.333268  2.790860\n",
      "4  7.880769  2.495171  2.941869\n",
      "len data 200\n",
      "          X         Y         Z\n",
      "0  4.334245  3.325804  3.825030\n",
      "1  7.095286  2.793882  0.312124\n",
      "2 -1.287562  5.038489 -0.761846\n",
      "3  2.285590  5.333268  2.790860\n",
      "4  7.880769  2.495171  2.941869\n",
      "len clustered 201\n"
     ]
    }
   ],
   "source": [
    "data = pd.DataFrame(X, columns = [\"X\", \"Y\", \"Z\"] )\n",
    "print(data.head())\n",
    "print(\"len data\", len(data))\n",
    "clustered = cluster_with_stack(eps, minPts, data)\n",
    "print(data.head())\n",
    "print(\"len clustered\", len(clustered))\n",
    "new_clustered = []\n",
    "for i in range(len(clustered)):\n",
    "    for cluster in clustered:\n",
    "        if (i == cluster[0]):\n",
    "            new_clustered.append(cluster[1])\n",
    "            break\n",
    "\n"
   ]
  },
  {
   "cell_type": "code",
   "execution_count": 67,
   "metadata": {},
   "outputs": [
    {
     "name": "stdout",
     "output_type": "stream",
     "text": [
      "    idx  cluster\n",
      "0    37        1\n",
      "1   168        1\n",
      "2    41        1\n",
      "3   181        1\n",
      "4   184        1\n",
      "..  ...      ...\n",
      "95   76        2\n",
      "96   16        2\n",
      "97   18        2\n",
      "98   21        2\n",
      "99  151        2\n",
      "\n",
      "[100 rows x 2 columns]\n"
     ]
    }
   ],
   "source": [
    "idx , cluster = list(zip(*clustered))\n",
    "\n",
    "cluster_df = pd.DataFrame(clustered, columns = [\"idx\", \"cluster\"])\n",
    "print(cluster_df.head(100))"
   ]
  },
  {
   "cell_type": "code",
   "execution_count": 68,
   "metadata": {},
   "outputs": [
    {
     "data": {
      "text/plain": [
       "Text(0, 0.5, 'Y')"
      ]
     },
     "execution_count": 68,
     "metadata": {},
     "output_type": "execute_result"
    },
    {
     "data": {
      "image/png": "[encoded data removed]",
      "text/plain": [
       "<Figure size 720x504 with 1 Axes>"
      ]
     },
     "metadata": {
      "needs_background": "light"
     },
     "output_type": "display_data"
    }
   ],
   "source": [
    "plt.figure(figsize=(10,7))\n",
    "for clust in np.unique(cluster):\n",
    "    plt.scatter(X[cluster_df[\"idx\"][cluster_df[\"cluster\"] == clust].values, 0], X[cluster_df[\"idx\"][cluster_df[\"cluster\"] == clust].values, 1], s=10, label=f\"Cluster{clust}\")\n",
    "\n",
    "plt.legend([f\"Cluster {clust}\" for clust in np.unique(cluster)], loc =\"lower right\")\n",
    "plt.title('Clustered Data')\n",
    "plt.xlabel('X')\n",
    "plt.ylabel('Y')"
   ]
  },
  {
   "cell_type": "markdown",
   "metadata": {},
   "source": [
    "## Referencias\n",
    "\n",
    "- Ayuda algoritmo KMeans: https://datascience.stackexchange.com/questions/48693/perform-k-means-clustering-over-multiple-columns\n",
    "\n",
    "- https://towardsdatascience.com/create-your-own-k-means-clustering-algorithm-in-python-d7d4c9077670\n",
    "\n",
    "\n",
    "- Ayuda algoritmo DBSCAN: https://github.com/Moosa-Ali/DBscan-Clustering-Implementation/blob/main/DBSCAN%20implementation.ipynb\n"
   ]
  }
 ],
 "metadata": {
  "interpreter": {
   "hash": "e868495d694aed0b609784ddbe0f4170fa3a0dc0623318ab45c72f62595d740c"
  },
  "kernelspec": {
   "display_name": "Python 3.9.0 64-bit",
   "language": "python",
   "name": "python3"
  },
  "language_info": {
   "codemirror_mode": {
    "name": "ipython",
    "version": 3
   },
   "file_extension": ".py",
   "mimetype": "text/x-python",
   "name": "python",
   "nbconvert_exporter": "python",
   "pygments_lexer": "ipython3",
   "version": "3.9.0"
  },
  "orig_nbformat": 4
 },
 "nbformat": 4,
 "nbformat_minor": 2
}
