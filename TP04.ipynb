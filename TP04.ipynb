{
 "cells": [
  {
   "cell_type": "markdown",
   "metadata": {},
   "source": [
    "### Instituto Tecnológico de Costa Rica (ITCR)\n",
    "### Escuela de Computación\n",
    "### Curso: Inteligencia Artificial\n",
    " \n",
    "### Cuarta tarea programada 2022-I\n",
    "\n",
    "\n",
    "Estudiantes: Juan Ignacio Navarro Navarro"
   ]
  },
  {
   "cell_type": "markdown",
   "metadata": {},
   "source": [
    "### 1.1) Implementación del algoritmo K-means sin bibliotecas"
   ]
  },
  {
   "cell_type": "markdown",
   "metadata": {},
   "source": [
    "Importación de la librerías necesarias para mostrar los resultados del análisis."
   ]
  },
  {
   "cell_type": "code",
   "execution_count": 101,
   "metadata": {},
   "outputs": [],
   "source": [
    "import numpy as np\n",
    "import matplotlib.pyplot as plt\n",
    "from sklearn.preprocessing import StandardScaler\n",
    "from numpy.random import uniform\n",
    "from sklearn.datasets import make_blobs\n",
    "import seaborn as sns\n",
    "import random\n",
    "import pandas as pd\n",
    "import pandasql as sqldf"
   ]
  },
  {
   "cell_type": "markdown",
   "metadata": {},
   "source": [
    "Definición de la clase que implementa KMeans. Además también se crea un método que define la función euclidea."
   ]
  },
  {
   "cell_type": "code",
   "execution_count": 3,
   "metadata": {},
   "outputs": [],
   "source": [
    "# Funcion para calculo de la distancia entre puntos\n",
    "def euclidean(point, data):\n",
    "    \"\"\"\n",
    "    Descipcion: distancia entre puntos de informacion\n",
    "    para poder realizar la clasificacion en clusters\n",
    "    al calcular la distancia total con un conjunto de\n",
    "    puntos\n",
    "\n",
    "    Entreda:\n",
    "        point -> es un vector de dimension m que representa un dato\n",
    "        data -> es arreglo que contiene el resto de los puntos del cluster\n",
    "    \"\"\"\n",
    "    return np.sqrt(np.sum((point - data)**2, axis=1))\n",
    "\n",
    "# clase para el calculo de K medias\n",
    "class KMeans:\n",
    "    def __init__(self, n_clusters=8, max_iter=300):\n",
    "        \"\"\"\n",
    "        Descripcion: se definen los cluster iniciales y un maximo de iteraciones\n",
    "        en los calculos del algoritmo\n",
    "        \"\"\"\n",
    "        self.n_clusters = n_clusters\n",
    "        self.max_iter = max_iter\n",
    "\n",
    "    def fit(self, X_train):\n",
    "        \"\"\"\n",
    "        Descripcion: se definen los centroides que son un punto de los dados \n",
    "        con respecto a los cuales se calculan las ditancias para conocer si es una\n",
    "        buena referencia\n",
    "\n",
    "        input:\n",
    "            -> X_train : son los datos de entrada del algoritmo\n",
    "        \"\"\"\n",
    "\n",
    "        self.centroids = [random.choice(X_train)]\n",
    "        for _ in range(self.n_clusters-1):\n",
    "            # Se calculan las ditancias de los puntos hacia los centroides\n",
    "            dists = np.sum([euclidean(centroid, X_train) for centroid in self.centroids], axis=0)\n",
    "            # Se normalizan estas distancias\n",
    "            dists /= np.sum(dists)\n",
    "            # Se escogen los puntos restantes basados en estas distancias\n",
    "            new_centroid_idx, = np.random.choice(range(len(X_train)), size=1, p=dists)\n",
    "            self.centroids += [X_train[new_centroid_idx]]\n",
    "\n",
    "        # Ahora se itera para ajustar los centroides hasta que converjan\n",
    "        iteration = 0\n",
    "        prev_centroids = None\n",
    "        while np.not_equal(self.centroids, prev_centroids).any() and iteration < self.max_iter:\n",
    "            # Se ordenan los datos asignangolos al centroide mas cercano\n",
    "            sorted_points = [[] for _ in range(self.n_clusters)]\n",
    "            for x in X_train:\n",
    "                dists = euclidean(x, self.centroids)\n",
    "                centroid_idx = np.argmin(dists)\n",
    "                sorted_points[centroid_idx].append(x)\n",
    "            \n",
    "            prev_centroids = self.centroids\n",
    "            self.centroids = [np.mean(cluster, axis=0) for cluster in sorted_points]\n",
    "            for i, centroid in enumerate(self.centroids):\n",
    "                if np.isnan(centroid).any():\n",
    "                    self.centroids[i] = prev_centroids[i]\n",
    "            iteration += 1\n",
    "\n",
    "    def evaluate(self, X):\n",
    "        \"\"\"\n",
    "        descripcion: funcion de evaluacion donde se asocian los puntos\n",
    "        al centroide de su cluster\n",
    "        \"\"\"\n",
    "        centroids = []\n",
    "        centroid_idxs = []\n",
    "        for x in X:\n",
    "            dists = euclidean(x, self.centroids)\n",
    "            centroid_idx = np.argmin(dists)\n",
    "            centroids.append(self.centroids[centroid_idx])\n",
    "            centroid_idxs.append(centroid_idx)\n",
    "        return centroids, centroid_idxs\n"
   ]
  },
  {
   "cell_type": "markdown",
   "metadata": {},
   "source": [
    "Prueba del algortimo con datos generados artificialmente"
   ]
  },
  {
   "cell_type": "code",
   "execution_count": 4,
   "metadata": {},
   "outputs": [
    {
     "data": {
      "image/png": "[encoded data removed]",
      "text/plain": [
       "<Figure size 432x288 with 1 Axes>"
      ]
     },
     "metadata": {
      "needs_background": "light"
     },
     "output_type": "display_data"
    },
    {
     "name": "stdout",
     "output_type": "stream",
     "text": [
      "          1         2          3         4  Cluster\n",
      "0  6.724657 -6.430379  -5.388381 -6.478967        1\n",
      "1  4.935718 -4.399345  -6.478041 -5.094093        1\n",
      "2 -6.956729 -6.538958  -8.561637  8.150706        3\n",
      "3  4.144456  5.193917 -11.107680  8.913963        0\n",
      "4 -6.357686 -6.583125  -8.587835  7.669971        3\n"
     ]
    }
   ],
   "source": [
    "# Se crea un arreglo de datos aleatorios con make_blobs que contiene la cantidad\n",
    "# de centros indicada junto con la cantidad de caracteristicas dada como features\n",
    "centers = 4\n",
    "features = 4\n",
    "X_train, true_labels = make_blobs(n_samples=100, centers=centers, random_state=42, n_features=features)\n",
    "\n",
    "# Se grafican los datos\n",
    "plt.scatter(\n",
    "   X_train[:, 0], X_train[:, 1],\n",
    "   c='lightgreen', marker='o',\n",
    "   edgecolor='black', s = 60\n",
    ")\n",
    "plt.show()\n",
    "\n",
    "# Se aplica Kmeans\n",
    "kmeans = KMeans(n_clusters=centers)\n",
    "kmeans.fit(X_train)\n",
    "df = pd.DataFrame(X_train, columns=['1', '2', '3', '4'])\n",
    "\n",
    "# Se imprimen los datos con el cluster escogido para cada uno\n",
    "df['Cluster'] = kmeans.evaluate(X_train)[1]\n",
    "print(df.head())\n"
   ]
  },
  {
   "cell_type": "markdown",
   "metadata": {},
   "source": [
    "### 1.2) Implementación de DBSCAN sin bibliotecas"
   ]
  },
  {
   "cell_type": "markdown",
   "metadata": {},
   "source": [
    "Se importan las bibliotecas necesarias para la población y graficación de los datos"
   ]
  },
  {
   "cell_type": "code",
   "execution_count": 5,
   "metadata": {},
   "outputs": [],
   "source": [
    "from sklearn.datasets import make_blobs\n",
    "import matplotlib.pyplot as plt\n",
    "import pandas as pd\n",
    "import numpy as np\n",
    "import random"
   ]
  },
  {
   "cell_type": "markdown",
   "metadata": {},
   "source": [
    "Se crean los métodos necesarios para el desarrollo del algoritmo"
   ]
  },
  {
   "cell_type": "code",
   "execution_count": 6,
   "metadata": {},
   "outputs": [],
   "source": [
    "def check_core_point(eps,minPts, df, index):\n",
    "    \"\"\"\n",
    "    Descripcion: clasificación de los puntos como core, borde o ruido.\n",
    "    Esto lo hace dependiendo de los vecinos que se tienen tomando como\n",
    "    parámetro el radio eps y el minimo de puntos\n",
    "    \"\"\"\n",
    "    # Se obtienen los puntos\n",
    "    x, y = df.iloc[index]['X']  ,  df.iloc[index]['Y']\n",
    "    \n",
    "    # Se revisa si los puntos están en el radio dado\n",
    "    temp =  df[((np.abs(x - df['X']) <= eps) & (np.abs(y - df['Y']) <= eps)) & (df.index != index)]\n",
    "    \n",
    "    #se revisa la cantidad de puntos que se encuentran dentro del radio\n",
    "    if len(temp) >= minPts:\n",
    "        #formato del return (dataframe, is_core, is_border, is_noise)\n",
    "        return (temp.index , True, False, False)\n",
    "    \n",
    "    elif (len(temp) < minPts) and len(temp) > 0:\n",
    "        #formato del return (dataframe, is_core, is_border, is_noise)\n",
    "        return (temp.index , False, True, False)\n",
    "    \n",
    "    elif len(temp) == 0:\n",
    "        #formato del return (dataframe, is_core, is_border, is_noise)\n",
    "        return (temp.index , False, False, True)"
   ]
  },
  {
   "cell_type": "markdown",
   "metadata": {},
   "source": [
    "Ahora se define la función principal del algoritmo"
   ]
  },
  {
   "cell_type": "code",
   "execution_count": 7,
   "metadata": {},
   "outputs": [],
   "source": [
    "def cluster_with_stack(eps, minPts, df):\n",
    "    \"\"\"\n",
    "    Descripcion: Esta funcion retorna una lista con todos\n",
    "    los puntos y los respectivos clusters escogidos para cada uno\n",
    "    \"\"\"\n",
    "    #Cantidad incial de clusters\n",
    "    C = 1\n",
    "    # se necesita una pila y una lista de datos no visitados\n",
    "    current_stack = set()\n",
    "    unvisited = list(df.index)\n",
    "    clusters = []\n",
    "    \n",
    "    while (len(unvisited) != 0): # hasta que todos los puntos sean visitados\n",
    "\n",
    "        # identificador del primer punto como un cluster\n",
    "        first_point = True\n",
    "        \n",
    "        # primero se escoge un punto aleatorio \n",
    "        current_stack.add(random.choice(unvisited))\n",
    "        \n",
    "        while len(current_stack) != 0: # esta parte se corre hasta el cluster esté completo\n",
    "            curr_idx = current_stack.pop()\n",
    "            \n",
    "            # se revisa si corresponde a un punto core, border o ruido\n",
    "            neigh_indexes, iscore, isborder, isnoise = check_core_point(eps, minPts, df, curr_idx)\n",
    "            \n",
    "            # en el caso de que se empiece on un borde se debe pasar esta revisión\n",
    "            if (isborder & first_point):\n",
    "                #en este caso se renombran los vecinos como ruido\n",
    "\n",
    "                clusters.append((curr_idx, 0))\n",
    "                clusters.extend(list(zip(neigh_indexes,[0 for _ in range(len(neigh_indexes))])))\n",
    "                \n",
    "                #también se marca como visitado\n",
    "                unvisited.remove(curr_idx)\n",
    "                unvisited = [e for e in unvisited if e not in neigh_indexes]\n",
    "    \n",
    "                continue\n",
    "                \n",
    "            unvisited.remove(curr_idx) #cuando se termina el analisis se quita de la lista de non visitados\n",
    "            \n",
    "            \n",
    "            neigh_indexes = set(neigh_indexes) & set(unvisited) \n",
    "            \n",
    "            if iscore: #si el punto actual es core\n",
    "                first_point = False\n",
    "                \n",
    "                clusters.append((curr_idx,C)) #se le asigna un cluster\n",
    "                current_stack.update(neigh_indexes) # se añaden los vecinos al cluster\n",
    "\n",
    "            elif isborder:# si el punto actual es un borde\n",
    "                clusters.append((curr_idx,C))\n",
    "                \n",
    "                continue\n",
    "\n",
    "            elif isnoise: #si el punto actual es un ruido\n",
    "                clusters.append((curr_idx, 0))\n",
    "                \n",
    "                continue\n",
    "                \n",
    "        if not first_point:\n",
    "            #ahora se incrementa el numero de clusters\n",
    "            C+=1\n",
    "        \n",
    "    return clusters"
   ]
  },
  {
   "cell_type": "markdown",
   "metadata": {},
   "source": [
    "Prueba del algoritmo con datos generados artificialmente por medio de bibliotecas"
   ]
  },
  {
   "cell_type": "code",
   "execution_count": 8,
   "metadata": {},
   "outputs": [
    {
     "name": "stdout",
     "output_type": "stream",
     "text": [
      "          X         Y\n",
      "0  1.006780  5.117322\n",
      "1  7.961095  4.321666\n",
      "2  8.541570  1.251254\n",
      "3  5.134048  6.202055\n",
      "4  5.862344  2.387744\n",
      "len data 200\n",
      "          X         Y\n",
      "0  1.006780  5.117322\n",
      "1  7.961095  4.321666\n",
      "2  8.541570  1.251254\n",
      "3  5.134048  6.202055\n",
      "4  5.862344  2.387744\n",
      "len clustered 209\n",
      "    idx  cluster\n",
      "0   141        1\n",
      "1   151        1\n",
      "2   105        1\n",
      "3    45        1\n",
      "4    83        1\n",
      "..  ...      ...\n",
      "95  136        2\n",
      "96   74        2\n",
      "97   11        2\n",
      "98  140        2\n",
      "99   79        2\n",
      "\n",
      "[100 rows x 2 columns]\n"
     ]
    },
    {
     "data": {
      "text/plain": [
       "Text(0, 0.5, 'Y')"
      ]
     },
     "execution_count": 8,
     "metadata": {},
     "output_type": "execute_result"
    },
    {
     "data": {
      "image/png": "[encoded data removed]",
      "text/plain": [
       "<Figure size 432x288 with 1 Axes>"
      ]
     },
     "metadata": {
      "needs_background": "light"
     },
     "output_type": "display_data"
    },
    {
     "data": {
      "image/png": "[encoded data removed]",
      "text/plain": [
       "<Figure size 720x504 with 1 Axes>"
      ]
     },
     "metadata": {
      "needs_background": "light"
     },
     "output_type": "display_data"
    }
   ],
   "source": [
    "\n",
    "# Definicion de los centros para generar los datos de prueba\n",
    "centers = [(0, 4), (5, 5) , (8,2)]\n",
    "cluster_std = [1.2, 1, 1.1]\n",
    "\n",
    "# Se crea una cantidad de puntos, en este caso el ejemplo\n",
    "# se inicializa con 2 valores en cada dato porque son puntos\n",
    "X, y= make_blobs(n_samples=200, cluster_std=cluster_std, centers=centers, n_features=2, random_state=1)\n",
    "\n",
    "# graficación de los datos clasificados inicialemnte\n",
    "plt.scatter(X[y == 0, 0], X[y == 0, 1], s=10, label=\"Cluster1\")\n",
    "plt.scatter(X[y == 1, 0], X[y == 1, 1], s=10, label=\"Cluster2\")\n",
    "plt.scatter(X[y == 2, 0], X[y == 2, 1], s=10, label=\"Cluster3\")\n",
    "plt.title(\"Scattered data\")\n",
    "plt.xlabel('X')\n",
    "plt.ylabel('Y')\n",
    "\n",
    "# parametro del radio\n",
    "eps = 0.6\n",
    "# parametro del minimo de vecinos\n",
    "minPts = 4\n",
    "\n",
    "# Mostrar los datos\n",
    "data = pd.DataFrame(X, columns = [\"X\", \"Y\"] )\n",
    "print(data.head())\n",
    "print(\"len data\", len(data))\n",
    "clustered = cluster_with_stack(eps, minPts, data)\n",
    "print(data.head())\n",
    "print(\"len clustered\", len(clustered))\n",
    "new_clustered = []\n",
    "for i in range(len(clustered)):\n",
    "    for cluster in clustered:\n",
    "        if (i == cluster[0]):\n",
    "            new_clustered.append(cluster[1])\n",
    "            break\n",
    "\n",
    "idx , cluster = list(zip(*clustered))\n",
    "\n",
    "\n",
    "# Ahora que se realizó el análisis, note como se muestra \n",
    "cluster_df = pd.DataFrame(clustered, columns = [\"idx\", \"cluster\"])\n",
    "print(cluster_df.head(100))\n",
    "\n",
    "# Ahora que ya se realizó el analisis se muestra la distribución de los\n",
    "# clusters, note que es diferente\n",
    "plt.figure(figsize=(10,7))\n",
    "for clust in np.unique(cluster):\n",
    "    plt.scatter(X[cluster_df[\"idx\"][cluster_df[\"cluster\"] == clust].values, 0], X[cluster_df[\"idx\"][cluster_df[\"cluster\"] == clust].values, 1], s=10, label=f\"Cluster{clust}\")\n",
    "plt.legend([f\"Cluster {clust}\" for clust in np.unique(cluster)], loc =\"lower right\")\n",
    "plt.title('Clustered Data')\n",
    "plt.xlabel('X')\n",
    "plt.ylabel('Y')"
   ]
  },
  {
   "cell_type": "markdown",
   "metadata": {},
   "source": [
    "### 2.1) y 2.2) Carga y selección de los datos a anlizar"
   ]
  },
  {
   "cell_type": "code",
   "execution_count": 108,
   "metadata": {},
   "outputs": [
    {
     "name": "stdout",
     "output_type": "stream",
     "text": [
      "   CantidadDelito      Canton\n",
      "0              44   abangares\n",
      "1              26      acosta\n",
      "2            1115    alajuela\n",
      "3             216  alajuelita\n",
      "4              23    alvarado\n"
     ]
    }
   ],
   "source": [
    "df = pd.read_csv('oij.csv')\n",
    "df = df.drop(columns=[\"SubDelito\",\"Fecha\",\"Hora\",\"Nacionalidad\",\"Provincia\",\"SubVictima\", \"Distrito\", \";;\"])\n",
    "df[\"Canton\"] = df[\"Canton\"].str.lower()\n",
    "\n",
    "#mysql = lambda q: sqldf(q, locals())\n",
    "df = sqldf.sqldf(\"SELECT COUNT(Delito) AS CantidadDelito, Canton FROM df GROUP BY Canton\")\n",
    "#mysql()\n",
    "\n",
    "print(df.head())\n",
    "\n"
   ]
  },
  {
   "cell_type": "code",
   "execution_count": 99,
   "metadata": {},
   "outputs": [
    {
     "name": "stdout",
     "output_type": "stream",
     "text": [
      "       Canton  Tasa de ocupación  Tasa de desempleo abierto  \\\n",
      "4    puriscal          49.103748                   3.071150   \n",
      "5     tarrazu          49.737288                   2.782839   \n",
      "6      aserri          52.686884                   3.249831   \n",
      "7        mora          53.433918                   3.229241   \n",
      "8  goicoechea          54.698079                   3.689298   \n",
      "\n",
      "   Porcentaje de población económicamente inactiva  \\\n",
      "4                                        49.340421   \n",
      "5                                        48.838983   \n",
      "6                                        45.543368   \n",
      "7                                        44.782992   \n",
      "8                                        43.206645   \n",
      "\n",
      "   Relación de dependencia económica  \n",
      "4                           1.527686  \n",
      "5                           1.696704  \n",
      "6                           1.449729  \n",
      "7                           1.332683  \n",
      "8                           1.238161  \n"
     ]
    }
   ],
   "source": [
    "def normalize(list):\n",
    "    replacements = (\n",
    "        (\"á\", \"a\"),\n",
    "        (\"é\", \"e\"),\n",
    "        (\"í\", \"i\"),\n",
    "        (\"ó\", \"o\"),\n",
    "        (\"ú\", \"u\"),\n",
    "    )\n",
    "    new_list = []\n",
    "    for s in list:\n",
    "        for a, b in replacements:\n",
    "            s = s.replace(a, b).replace(a.upper(), b.upper())\n",
    "        new_list.append(s)\n",
    "    return new_list\n",
    "\n",
    "\n",
    "df = pd.read_excel('inec.xls')\n",
    "df = df.drop([0, 1, 2, 3], axis=0)\n",
    "df = df.drop([\"Unnamed: 0\"], axis=1)\n",
    "df[\"Canton\"] = normalize(df[\"Canton\"].str.lower())\n",
    "df = df.drop(columns=[\"Población de 15 años y más\", \"Tasa neta de participación\", \"Sector Primario\", \"Sector Secundario\", \"Sector Terciario\"], axis = 1)\n",
    "print(df.head())\n"
   ]
  },
  {
   "cell_type": "markdown",
   "metadata": {},
   "source": [
    "## Referencias\n",
    "\n",
    "- Ayuda algoritmo KMeans: https://datascience.stackexchange.com/questions/48693/perform-k-means-clustering-over-multiple-columns\n",
    "\n",
    "- https://towardsdatascience.com/create-your-own-k-means-clustering-algorithm-in-python-d7d4c9077670\n",
    "\n",
    "\n",
    "- Ayuda algoritmo DBSCAN: https://github.com/Moosa-Ali/DBscan-Clustering-Implementation/blob/main/DBSCAN%20implementation.ipynb\n"
   ]
  }
 ],
 "metadata": {
  "interpreter": {
   "hash": "e868495d694aed0b609784ddbe0f4170fa3a0dc0623318ab45c72f62595d740c"
  },
  "kernelspec": {
   "display_name": "Python 3.9.0 64-bit",
   "language": "python",
   "name": "python3"
  },
  "language_info": {
   "codemirror_mode": {
    "name": "ipython",
    "version": 3
   },
   "file_extension": ".py",
   "mimetype": "text/x-python",
   "name": "python",
   "nbconvert_exporter": "python",
   "pygments_lexer": "ipython3",
   "version": "3.9.0"
  },
  "orig_nbformat": 4
 },
 "nbformat": 4,
 "nbformat_minor": 2
}
