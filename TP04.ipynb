{
 "cells": [
  {
   "cell_type": "markdown",
   "metadata": {},
   "source": [
    "### Instituto Tecnológico de Costa Rica (ITCR)\n",
    "### Escuela de Computación\n",
    "### Curso: Inteligencia Artificial\n",
    " \n",
    "### Cuarta tarea programada 2022-I\n",
    "\n",
    "\n",
    "Estudiantes: Juan Ignacio Navarro Navarro"
   ]
  },
  {
   "cell_type": "markdown",
   "metadata": {},
   "source": [
    "### 1.1) Implementación del algoritmo K-means sin bibliotecas"
   ]
  },
  {
   "cell_type": "markdown",
   "metadata": {},
   "source": [
    "Importación de la librerías necesarias para mostrar los resultados del análisis."
   ]
  },
  {
   "cell_type": "code",
   "execution_count": 306,
   "metadata": {},
   "outputs": [],
   "source": [
    "import numpy as np\n",
    "import matplotlib.pyplot as plt\n",
    "from sklearn.preprocessing import StandardScaler\n",
    "from numpy.random import uniform\n",
    "from sklearn.datasets import make_blobs\n",
    "import seaborn as sns\n",
    "import random\n",
    "import pandas as pd\n",
    "import pandasql as sqldf"
   ]
  },
  {
   "cell_type": "markdown",
   "metadata": {},
   "source": [
    "Definición de la clase que implementa KMeans. Además también se crea un método que define la función euclidea."
   ]
  },
  {
   "cell_type": "code",
   "execution_count": 331,
   "metadata": {},
   "outputs": [],
   "source": [
    "# Funcion para calculo de la distancia entre puntos\n",
    "def euclidean(point, data):\n",
    "    \"\"\"\n",
    "    Descipcion: distancia entre puntos de informacion\n",
    "    para poder realizar la clasificacion en clusters\n",
    "    al calcular la distancia total con un conjunto de\n",
    "    puntos\n",
    "\n",
    "    Entreda:\n",
    "        point -> es un vector de dimension m que representa un dato\n",
    "        data -> es arreglo que contiene el resto de los puntos del cluster\n",
    "    \"\"\"\n",
    "    return np.sqrt(np.sum((point - data)**2, axis=1))\n",
    "\n",
    "# clase para el calculo de K medias\n",
    "class KMeans:\n",
    "    def __init__(self, n_clusters=8, max_iter=300):\n",
    "        \"\"\"\n",
    "        Descripcion: se definen los cluster iniciales y un maximo de iteraciones\n",
    "        en los calculos del algoritmo\n",
    "        \"\"\"\n",
    "        self.n_clusters = n_clusters\n",
    "        self.max_iter = max_iter\n",
    "        self.inertia = 0\n",
    "\n",
    "    def fit(self, X_train):\n",
    "        \"\"\"\n",
    "        Descripcion: se definen los centroides que son un punto de los dados \n",
    "        con respecto a los cuales se calculan las ditancias para conocer si es una\n",
    "        buena referencia\n",
    "\n",
    "        input:\n",
    "            -> X_train : son los datos de entrada del algoritmo\n",
    "        \"\"\"\n",
    "\n",
    "        self.centroids = [random.choice(X_train)]\n",
    "        for _ in range(self.n_clusters-1):\n",
    "            # Se calculan las ditancias de los puntos hacia los centroides\n",
    "            dists = np.sum([euclidean(centroid, X_train) for centroid in self.centroids], axis=0)\n",
    "            # Se normalizan estas distancias\n",
    "            dists /= np.sum(dists)\n",
    "            # Se escogen los puntos restantes basados en estas distancias\n",
    "            new_centroid_idx, = np.random.choice(range(len(X_train)), size=1, p=dists)\n",
    "            self.centroids += [X_train[new_centroid_idx]]\n",
    "\n",
    "            # Define a value por the inertia\n",
    "            self.inertia = np.sqrt(np.sum((dists)**2))\n",
    "\n",
    "        # Ahora se itera para ajustar los centroides hasta que converjan\n",
    "        iteration = 0\n",
    "        prev_centroids = None\n",
    "        while np.not_equal(self.centroids, prev_centroids).any() and iteration < self.max_iter:\n",
    "            # Se ordenan los datos asignangolos al centroide mas cercano\n",
    "            sorted_points = [[] for _ in range(self.n_clusters)]\n",
    "            for x in X_train:\n",
    "                dists = euclidean(x, self.centroids)\n",
    "                centroid_idx = np.argmin(dists)\n",
    "                sorted_points[centroid_idx].append(x)\n",
    "            \n",
    "            prev_centroids = self.centroids\n",
    "            self.centroids = [np.mean(cluster, axis=0) for cluster in sorted_points]\n",
    "            for i, centroid in enumerate(self.centroids):\n",
    "                if np.isnan(centroid).any():\n",
    "                    self.centroids[i] = prev_centroids[i]\n",
    "            iteration += 1\n",
    "\n",
    "    def evaluate(self, X):\n",
    "        \"\"\"\n",
    "        descripcion: funcion de evaluacion donde se asocian los puntos\n",
    "        al centroide de su cluster\n",
    "        \"\"\"\n",
    "        centroids = []\n",
    "        centroid_idxs = []\n",
    "        for x in X:\n",
    "            dists = euclidean(x, self.centroids)\n",
    "            centroid_idx = np.argmin(dists)\n",
    "            centroids.append(self.centroids[centroid_idx])\n",
    "            centroid_idxs.append(centroid_idx)\n",
    "        return centroids, centroid_idxs\n"
   ]
  },
  {
   "cell_type": "markdown",
   "metadata": {},
   "source": [
    "Prueba del algortimo con datos generados artificialmente"
   ]
  },
  {
   "cell_type": "code",
   "execution_count": 308,
   "metadata": {},
   "outputs": [
    {
     "data": {
      "image/png": "[encoded data removed]",
      "text/plain": [
       "<Figure size 432x288 with 1 Axes>"
      ]
     },
     "metadata": {
      "needs_background": "light"
     },
     "output_type": "display_data"
    },
    {
     "name": "stdout",
     "output_type": "stream",
     "text": [
      "          1         2          3         4  Cluster\n",
      "0  6.724657 -6.430379  -5.388381 -6.478967        1\n",
      "1  4.935718 -4.399345  -6.478041 -5.094093        1\n",
      "2 -6.956729 -6.538958  -8.561637  8.150706        0\n",
      "3  4.144456  5.193917 -11.107680  8.913963        3\n",
      "4 -6.357686 -6.583125  -8.587835  7.669971        0\n"
     ]
    }
   ],
   "source": [
    "# Se crea un arreglo de datos aleatorios con make_blobs que contiene la cantidad\n",
    "# de centros indicada junto con la cantidad de caracteristicas dada como features\n",
    "centers = 4\n",
    "features = 4\n",
    "X_train, true_labels = make_blobs(n_samples=100, centers=centers, random_state=42, n_features=features)\n",
    "\n",
    "# Se grafican los datos\n",
    "plt.scatter(\n",
    "   X_train[:, 0], X_train[:, 1],\n",
    "   c='lightgreen', marker='o',\n",
    "   edgecolor='black', s = 60\n",
    ")\n",
    "plt.show()\n",
    "\n",
    "# Se aplica Kmeans\n",
    "kmeans = KMeans(n_clusters=centers)\n",
    "kmeans.fit(X_train)\n",
    "df = pd.DataFrame(X_train, columns=['1', '2', '3', '4'])\n",
    "\n",
    "# Se imprimen los datos con el cluster escogido para cada uno\n",
    "df['Cluster'] = kmeans.evaluate(X_train)[1]\n",
    "print(df.head())\n"
   ]
  },
  {
   "cell_type": "markdown",
   "metadata": {},
   "source": [
    "### 1.2) Implementación de DBSCAN sin bibliotecas"
   ]
  },
  {
   "cell_type": "markdown",
   "metadata": {},
   "source": [
    "Se importan las bibliotecas necesarias para la población y graficación de los datos"
   ]
  },
  {
   "cell_type": "code",
   "execution_count": 309,
   "metadata": {},
   "outputs": [],
   "source": [
    "from sklearn.datasets import make_blobs\n",
    "import matplotlib.pyplot as plt\n",
    "import pandas as pd\n",
    "import numpy as np\n",
    "import random"
   ]
  },
  {
   "cell_type": "markdown",
   "metadata": {},
   "source": [
    "Se crean los métodos necesarios para el desarrollo del algoritmo"
   ]
  },
  {
   "cell_type": "code",
   "execution_count": 369,
   "metadata": {},
   "outputs": [],
   "source": [
    "def check_core_point(eps,minPts, df, index, column_names):\n",
    "    \"\"\"\n",
    "    Descripcion: clasificación de los puntos como core, borde o ruido.\n",
    "    Esto lo hace dependiendo de los vecinos que se tienen tomando como\n",
    "    parámetro el radio eps y el minimo de puntos\n",
    "    \"\"\"\n",
    "    # Se obtienen los puntos\n",
    "    x, y = df.iloc[index][column_names[0]]  ,  df.iloc[index][column_names[1]]\n",
    "    \n",
    "    \n",
    "    # Se revisa si los puntos están en el radio dado\n",
    "    temp =  df[((np.abs(x - df[column_names[0]]) <= eps) & (np.abs(y - df[column_names[1]]) <= eps)) & (df.index != index)]\n",
    "    \n",
    "    #se revisa la cantidad de puntos que se encuentran dentro del radio\n",
    "    if len(temp) >= minPts:\n",
    "        #formato del return (dataframe, is_core, is_border, is_noise)\n",
    "        return (temp.index , True, False, False)\n",
    "    \n",
    "    elif (len(temp) < minPts) and len(temp) > 0:\n",
    "        #formato del return (dataframe, is_core, is_border, is_noise)\n",
    "        return (temp.index , False, True, False)\n",
    "    \n",
    "    elif len(temp) == 0:\n",
    "        #formato del return (dataframe, is_core, is_border, is_noise)\n",
    "        return (temp.index , False, False, True)"
   ]
  },
  {
   "cell_type": "markdown",
   "metadata": {},
   "source": [
    "Ahora se define la función principal del algoritmo"
   ]
  },
  {
   "cell_type": "code",
   "execution_count": 372,
   "metadata": {},
   "outputs": [],
   "source": [
    "def cluster_with_stack(eps, minPts, df, column_names):\n",
    "    \"\"\"\n",
    "    Descripcion: Esta funcion retorna una lista con todos\n",
    "    los puntos y los respectivos clusters escogidos para cada uno\n",
    "    \"\"\"\n",
    "    #Cantidad incial de clusters\n",
    "    C = 1\n",
    "    # se necesita una pila y una lista de datos no visitados\n",
    "    current_stack = set()\n",
    "    unvisited = list(df.index)\n",
    "    clusters = []\n",
    "    \n",
    "    while (len(unvisited) != 0): # hasta que todos los puntos sean visitados\n",
    "\n",
    "        # identificador del primer punto como un cluster\n",
    "        first_point = True\n",
    "        \n",
    "        # primero se escoge un punto aleatorio \n",
    "        current_stack.add(random.choice(unvisited))\n",
    "        \n",
    "        while len(current_stack) != 0: # esta parte se corre hasta el cluster esté completo\n",
    "            curr_idx = current_stack.pop()\n",
    "            \n",
    "            # se revisa si corresponde a un punto core, border o ruido\n",
    "            neigh_indexes, iscore, isborder, isnoise = check_core_point(eps, minPts, df, curr_idx, column_names)\n",
    "            \n",
    "            # en el caso de que se empiece on un borde se debe pasar esta revisión\n",
    "            if (isborder & first_point):\n",
    "                #en este caso se renombran los vecinos como ruido\n",
    "\n",
    "                clusters.append((curr_idx, 0))\n",
    "                clusters.extend(list(zip(neigh_indexes,[0 for _ in range(len(neigh_indexes))])))\n",
    "                \n",
    "                #también se marca como visitado\n",
    "                unvisited.remove(curr_idx)\n",
    "                unvisited = [e for e in unvisited if e not in neigh_indexes]\n",
    "    \n",
    "                continue\n",
    "                \n",
    "            unvisited.remove(curr_idx) #cuando se termina el analisis se quita de la lista de non visitados\n",
    "            \n",
    "            \n",
    "            neigh_indexes = set(neigh_indexes) & set(unvisited) \n",
    "            \n",
    "            if iscore: #si el punto actual es core\n",
    "                first_point = False\n",
    "                \n",
    "                clusters.append((curr_idx,C)) #se le asigna un cluster\n",
    "                current_stack.update(neigh_indexes) # se añaden los vecinos al cluster\n",
    "\n",
    "            elif isborder:# si el punto actual es un borde\n",
    "                clusters.append((curr_idx,C))\n",
    "                \n",
    "                continue\n",
    "\n",
    "            elif isnoise: #si el punto actual es un ruido\n",
    "                clusters.append((curr_idx, 0))\n",
    "                \n",
    "                continue\n",
    "                \n",
    "        if not first_point:\n",
    "            #ahora se incrementa el numero de clusters\n",
    "            C+=1\n",
    "        \n",
    "    return clusters"
   ]
  },
  {
   "cell_type": "markdown",
   "metadata": {},
   "source": [
    "Prueba del algoritmo con datos generados artificialmente por medio de bibliotecas"
   ]
  },
  {
   "cell_type": "code",
   "execution_count": 373,
   "metadata": {},
   "outputs": [
    {
     "name": "stdout",
     "output_type": "stream",
     "text": [
      "          X         Y\n",
      "0  1.006780  5.117322\n",
      "1  7.961095  4.321666\n",
      "2  8.541570  1.251254\n",
      "3  5.134048  6.202055\n",
      "4  5.862344  2.387744\n",
      "len data 200\n",
      "          X         Y\n",
      "0  1.006780  5.117322\n",
      "1  7.961095  4.321666\n",
      "2  8.541570  1.251254\n",
      "3  5.134048  6.202055\n",
      "4  5.862344  2.387744\n",
      "len clustered 206\n",
      "    idx  cluster\n",
      "0   157        0\n",
      "1   137        0\n",
      "2   150        0\n",
      "3   196        0\n",
      "4    99        0\n",
      "..  ...      ...\n",
      "95   86        1\n",
      "96   90        1\n",
      "97   94        1\n",
      "98   97        1\n",
      "99  108        1\n",
      "\n",
      "[100 rows x 2 columns]\n"
     ]
    },
    {
     "data": {
      "text/plain": [
       "Text(0, 0.5, 'Y')"
      ]
     },
     "execution_count": 373,
     "metadata": {},
     "output_type": "execute_result"
    },
    {
     "data": {
      "image/png": "[encoded data removed]",
      "text/plain": [
       "<Figure size 432x288 with 1 Axes>"
      ]
     },
     "metadata": {
      "needs_background": "light"
     },
     "output_type": "display_data"
    },
    {
     "data": {
      "image/png": "[encoded data removed]",
      "text/plain": [
       "<Figure size 720x504 with 1 Axes>"
      ]
     },
     "metadata": {
      "needs_background": "light"
     },
     "output_type": "display_data"
    }
   ],
   "source": [
    "\n",
    "# Definicion de los centros para generar los datos de prueba\n",
    "centers = [(0, 4), (5, 5) , (8,2)]\n",
    "cluster_std = [1.2, 1, 1.1]\n",
    "\n",
    "# Se crea una cantidad de puntos, en este caso el ejemplo\n",
    "# se inicializa con 2 valores en cada dato porque son puntos\n",
    "X, y= make_blobs(n_samples=200, cluster_std=cluster_std, centers=centers, n_features=2, random_state=1)\n",
    "\n",
    "# graficación de los datos clasificados inicialemnte\n",
    "plt.scatter(X[y == 0, 0], X[y == 0, 1], s=10, label=\"Cluster1\")\n",
    "plt.scatter(X[y == 1, 0], X[y == 1, 1], s=10, label=\"Cluster2\")\n",
    "plt.scatter(X[y == 2, 0], X[y == 2, 1], s=10, label=\"Cluster3\")\n",
    "plt.title(\"Scattered data\")\n",
    "plt.xlabel('X')\n",
    "plt.ylabel('Y')\n",
    "\n",
    "# parametro del radio\n",
    "eps = 0.6\n",
    "# parametro del minimo de vecinos\n",
    "minPts = 4\n",
    "\n",
    "# Mostrar los datos\n",
    "data = pd.DataFrame(X, columns = [\"X\", \"Y\"] )\n",
    "print(data.head())\n",
    "print(\"len data\", len(data))\n",
    "column_names = [\"X\", \"Y\"]\n",
    "clustered = cluster_with_stack(eps, minPts, data, column_names)\n",
    "print(data.head())\n",
    "print(\"len clustered\", len(clustered))\n",
    "new_clustered = []\n",
    "for i in range(len(clustered)):\n",
    "    for cluster in clustered:\n",
    "        if (i == cluster[0]):\n",
    "            new_clustered.append(cluster[1])\n",
    "            break\n",
    "\n",
    "idx , cluster = list(zip(*clustered))\n",
    "\n",
    "\n",
    "# Ahora que se realizó el análisis, note como se muestra \n",
    "cluster_df = pd.DataFrame(clustered, columns = [\"idx\", \"cluster\"])\n",
    "print(cluster_df.head(100))\n",
    "\n",
    "# Ahora que ya se realizó el analisis se muestra la distribución de los\n",
    "# clusters, note que es diferente\n",
    "plt.figure(figsize=(10,7))\n",
    "for clust in np.unique(cluster):\n",
    "    plt.scatter(X[cluster_df[\"idx\"][cluster_df[\"cluster\"] == clust].values, 0], X[cluster_df[\"idx\"][cluster_df[\"cluster\"] == clust].values, 1], s=10, label=f\"Cluster{clust}\")\n",
    "plt.legend([f\"Cluster {clust}\" for clust in np.unique(cluster)], loc =\"lower right\")\n",
    "plt.title('Clustered Data')\n",
    "plt.xlabel('X')\n",
    "plt.ylabel('Y')"
   ]
  },
  {
   "cell_type": "markdown",
   "metadata": {},
   "source": [
    "### 2.1) y 2.2) Carga y selección de los datos a anlizar"
   ]
  },
  {
   "cell_type": "code",
   "execution_count": 313,
   "metadata": {},
   "outputs": [
    {
     "name": "stdout",
     "output_type": "stream",
     "text": [
      "   CantidadDelito      Canton\n",
      "0              44   abangares\n",
      "1              26      acosta\n",
      "2            1115    alajuela\n",
      "3             216  alajuelita\n",
      "4              23    alvarado\n"
     ]
    }
   ],
   "source": [
    "df1 = pd.read_csv('oij.csv')\n",
    "df1 = df1.drop(columns=[\"SubDelito\",\"Fecha\",\"Hora\",\"Nacionalidad\",\"Provincia\",\"SubVictima\", \"Distrito\", \";;\"])\n",
    "df1[\"Canton\"] = df1[\"Canton\"].str.lower()\n",
    "\n",
    "df1 = sqldf.sqldf(\"SELECT COUNT(Delito) AS CantidadDelito, Canton FROM df1 GROUP BY Canton\")\n",
    "\n",
    "print(df1.head())\n",
    "\n"
   ]
  },
  {
   "cell_type": "code",
   "execution_count": 314,
   "metadata": {},
   "outputs": [
    {
     "name": "stdout",
     "output_type": "stream",
     "text": [
      "   CantonInec  TasaOcupacion  TasaDesempleo  PorcentajePersonasInactivas  \\\n",
      "4    puriscal      49.103748       3.071150                    49.340421   \n",
      "5     tarrazu      49.737288       2.782839                    48.838983   \n",
      "6      aserri      52.686884       3.249831                    45.543368   \n",
      "7        mora      53.433918       3.229241                    44.782992   \n",
      "8  goicoechea      54.698079       3.689298                    43.206645   \n",
      "\n",
      "   RelacionDependencia   \n",
      "4              1.527686  \n",
      "5              1.696704  \n",
      "6              1.449729  \n",
      "7              1.332683  \n",
      "8              1.238161  \n"
     ]
    }
   ],
   "source": [
    "def normalize(list):\n",
    "    replacements = (\n",
    "        (\"á\", \"a\"),\n",
    "        (\"é\", \"e\"),\n",
    "        (\"í\", \"i\"),\n",
    "        (\"ó\", \"o\"),\n",
    "        (\"ú\", \"u\"),\n",
    "    )\n",
    "    new_list = []\n",
    "    for s in list:\n",
    "        for a, b in replacements:\n",
    "            s = s.replace(a, b).replace(a.upper(), b.upper())\n",
    "        new_list.append(s)\n",
    "    return new_list\n",
    "\n",
    "\n",
    "df2 = pd.read_excel('inec.xls')\n",
    "df2 = df2.drop([0, 1, 2, 3], axis=0)\n",
    "df2 = df2.drop([\"Unnamed: 0\"], axis=1)\n",
    "df2[\"CantonInec\"] = normalize(df2[\"CantonInec\"].str.lower())\n",
    "df2 = df2.drop(columns=[\"Población de 15 años y más\", \"Tasa neta de participación\", \"Sector Primario\", \"Sector Secundario\", \"Sector Terciario\"], axis = 1)\n",
    "print(df2.head())\n"
   ]
  },
  {
   "cell_type": "markdown",
   "metadata": {},
   "source": [
    "Se realiza una unión de los datos de cada archivo"
   ]
  },
  {
   "cell_type": "code",
   "execution_count": 315,
   "metadata": {},
   "outputs": [
    {
     "name": "stdout",
     "output_type": "stream",
     "text": [
      "   CantidadDelito      Canton  TasaOcupacion  TasaDesempleo  \\\n",
      "0              44   abangares      44.862268       4.809683   \n",
      "1              26      acosta      48.539620       2.061311   \n",
      "2            1115    alajuela      53.855069       3.515977   \n",
      "3             216  alajuelita      53.897432       3.784158   \n",
      "4              23    alvarado      52.234480       1.515953   \n",
      "\n",
      "   PorcentajePersonasInactivas  RelacionDependencia   \n",
      "0                    52.870975              1.872910  \n",
      "1                    50.438769              1.670322  \n",
      "2                    44.182397              1.341712  \n",
      "3                    43.982788              1.443112  \n",
      "4                    46.961481              1.522827  \n"
     ]
    }
   ],
   "source": [
    "df = sqldf.sqldf(\"SELECT * FROM df1 INNER JOIN df2 ON df1.Canton = df2.CantonInec\")\n",
    "df = df.drop([\"CantonInec\"], axis=1)\n",
    "print(df.head())"
   ]
  },
  {
   "cell_type": "markdown",
   "metadata": {},
   "source": [
    "### 2.3) Uso del algoritmo de KMeans para caracterizar los datos "
   ]
  },
  {
   "cell_type": "code",
   "execution_count": 316,
   "metadata": {},
   "outputs": [
    {
     "name": "stdout",
     "output_type": "stream",
     "text": [
      "   CantidadDelito  TasaOcupacion  TasaDesempleo  PorcentajePersonasInactivas  \\\n",
      "0              44      44.862268       4.809683                    52.870975   \n",
      "1              26      48.539620       2.061311                    50.438769   \n",
      "2            1115      53.855069       3.515977                    44.182397   \n",
      "3             216      53.897432       3.784158                    43.982788   \n",
      "4              23      52.234480       1.515953                    46.961481   \n",
      "\n",
      "   RelacionDependencia   Cluster  \n",
      "0              1.872910        1  \n",
      "1              1.670322        1  \n",
      "2              1.341712        3  \n",
      "3              1.443112        0  \n",
      "4              1.522827        1  \n"
     ]
    }
   ],
   "source": [
    "# Se crea un arreglo de datos aleatorios con make_blobs que contiene la cantidad\n",
    "# de centros indicada junto con la cantidad de caracteristicas dada como features\n",
    "centers = 5\n",
    "\n",
    "# copia del dataframe para el analisis\n",
    "df  = pd.DataFrame(df)\n",
    "df_prueba1 = df.drop([\"Canton\"], axis=1)\n",
    "\n",
    "# Se aplica Kmeans\n",
    "kmeans = KMeans(n_clusters=centers)\n",
    "kmeans.fit(df_prueba1.to_numpy())\n",
    "\n",
    "# Se imprimen los datos con el cluster escogido para cada uno\n",
    "df_prueba1['Cluster'] = kmeans.evaluate(df_prueba1.to_numpy())[1]\n",
    "print(df_prueba1.head())\n"
   ]
  },
  {
   "cell_type": "markdown",
   "metadata": {},
   "source": [
    "A continuación se muestran los cantones que terminaton en los mismos clusters"
   ]
  },
  {
   "cell_type": "code",
   "execution_count": 317,
   "metadata": {},
   "outputs": [
    {
     "name": "stdout",
     "output_type": "stream",
     "text": [
      "\n",
      "\n",
      " Cantones en el cluster  0\n",
      "alajuelita , corredores , curridabat , golfito , grecia , guacimo , la union , matina , nicoya , osa , sarapiqui , talamanca , tibas , turrialba , \n",
      "\n",
      " Cantones en el cluster  1\n",
      "abangares , acosta , alvarado , atenas , bagaces , dota , flores , guatuso , hojancha , jimenez , la cruz , montes de oro , mora , nandayure , naranjo , palmares , poas , san isidro , san mateo , san pablo , tarrazu , tilaran , turrubares , zarcero , \n",
      "\n",
      " Cantones en el cluster  2\n",
      "aserri , barva , belen , buenos aires , carrillo , coto brus , el guarco , esparza , los chiles , moravia , oreamuno , orotina , paraiso , parrita , puriscal , san rafael , santa ana , santa barbara , santo domingo , upala , \n",
      "\n",
      " Cantones en el cluster  3\n",
      "alajuela , heredia , puntarenas , san carlos , \n",
      "\n",
      " Cantones en el cluster  4\n",
      "cartago , garabito , goicoechea , liberia , limon , montes de oca , perez zeledon , pococi , san ramon , santa cruz , siquirres , "
     ]
    }
   ],
   "source": [
    "\n",
    "listaCluster = []\n",
    "listaCantones= []\n",
    "for i in df_prueba1.index:\n",
    "    listaCluster.append(df_prueba1.iloc[i][\"Cluster\"])\n",
    "\n",
    "for i in df.index:\n",
    "    listaCantones.append(df.iloc[i]['Canton'])\n",
    "\n",
    "\n",
    "grupos = []\n",
    "for i in range(centers):\n",
    "    grupos.append([])\n",
    "\n",
    "for i in range(len(listaCantones)):\n",
    "    grupos[int(listaCluster[i])].append(listaCantones[i])\n",
    "\n",
    "for i in range(len(grupos)):\n",
    "    print(\"\\n\\n Cantones en el cluster \", i)\n",
    "    for j in range(len(grupos[i])):\n",
    "        print(grupos[i][j], \", \", end = '')\n",
    "\n",
    "\n"
   ]
  },
  {
   "cell_type": "markdown",
   "metadata": {},
   "source": [
    "### 2.4) Método del codo para seleccionar el mejor K\n",
    "\n",
    "A continuación el método del codo"
   ]
  },
  {
   "cell_type": "code",
   "execution_count": 345,
   "metadata": {},
   "outputs": [
    {
     "name": "stdout",
     "output_type": "stream",
     "text": [
      "[0, 0.1669516180276672, 0.14417169533153337, 0.12248745968236356, 0.1274990048423285, 0.12638761142970095, 0.137039777072987, 0.12354119954717492, 0.11867306454819496, 0.12116610069629137]\n"
     ]
    },
    {
     "data": {
      "image/png": "[encoded data removed]",
      "text/plain": [
       "<Figure size 432x288 with 1 Axes>"
      ]
     },
     "metadata": {
      "needs_background": "light"
     },
     "output_type": "display_data"
    }
   ],
   "source": [
    "# Se calula el mejor k con el Algoritmo del Codo.\n",
    "# calculamos la distorcion para diferentes k \n",
    "\n",
    "# Se calcula el error cuadrado con k diferentes (distorción)\n",
    "distortions = []\n",
    "for i in range(1, 11):\n",
    "    km = KMeans(n_clusters=i)\n",
    "    km.fit(df_prueba1.to_numpy())\n",
    "    distortions.append(km.inertia)\n",
    "\n",
    "print(distortions)\n",
    "# plot\n",
    "plt.plot(range(1, 10), distortions[1:], marker='o')\n",
    "plt.xlabel('Núúmero de clústers')\n",
    "plt.ylabel('Distorción')\n",
    "plt.show()"
   ]
  },
  {
   "cell_type": "markdown",
   "metadata": {},
   "source": [
    "Recordemos que entre las características de un buen modelo es uno que tiene una baja inercia y un bajo número de clusters. En este caso el valor que mejor cumple estas características es el valor 3. Ahora note el desempeño del algoritmo con 3 clusters:"
   ]
  },
  {
   "cell_type": "code",
   "execution_count": 346,
   "metadata": {},
   "outputs": [
    {
     "name": "stdout",
     "output_type": "stream",
     "text": [
      "   CantidadDelito  TasaOcupacion  TasaDesempleo  PorcentajePersonasInactivas  \\\n",
      "0              44      44.862268       4.809683                    52.870975   \n",
      "1              26      48.539620       2.061311                    50.438769   \n",
      "2            1115      53.855069       3.515977                    44.182397   \n",
      "3             216      53.897432       3.784158                    43.982788   \n",
      "4              23      52.234480       1.515953                    46.961481   \n",
      "\n",
      "   RelacionDependencia   Cluster  \n",
      "0              1.872910        0  \n",
      "1              1.670322        0  \n",
      "2              1.341712        2  \n",
      "3              1.443112        0  \n",
      "4              1.522827        0  \n",
      "\n",
      "\n",
      " Cantones en el cluster  0\n",
      "abangares , acosta , alajuelita , alvarado , aserri , atenas , bagaces , barva , belen , buenos aires , carrillo , coto brus , dota , el guarco , esparza , flores , golfito , grecia , guacimo , guatuso , hojancha , jimenez , la cruz , la union , los chiles , montes de oro , mora , moravia , nandayure , naranjo , nicoya , oreamuno , orotina , palmares , paraiso , parrita , poas , puriscal , san isidro , san mateo , san pablo , san rafael , santa ana , santa barbara , santo domingo , sarapiqui , tarrazu , tibas , tilaran , turrubares , upala , zarcero , \n",
      "\n",
      " Cantones en el cluster  1\n",
      "cartago , corredores , curridabat , garabito , goicoechea , liberia , limon , matina , montes de oca , osa , perez zeledon , pococi , san ramon , santa cruz , siquirres , talamanca , turrialba , \n",
      "\n",
      " Cantones en el cluster  2\n",
      "alajuela , heredia , puntarenas , san carlos , "
     ]
    }
   ],
   "source": [
    "# Se crea un arreglo de datos aleatorios con make_blobs que contiene la cantidad\n",
    "# de centros indicada junto con la cantidad de caracteristicas dada como features\n",
    "centers = 3\n",
    "\n",
    "# copia del dataframe para el analisis\n",
    "df  = pd.DataFrame(df)\n",
    "df_prueba2 = df.drop([\"Canton\"], axis=1)\n",
    "\n",
    "# Se aplica Kmeans\n",
    "kmeans = KMeans(n_clusters=centers)\n",
    "kmeans.fit(df_prueba2.to_numpy())\n",
    "\n",
    "# Se imprimen los datos con el cluster escogido para cada uno\n",
    "df_prueba2['Cluster'] = kmeans.evaluate(df_prueba2.to_numpy())[1]\n",
    "print(df_prueba2.head())\n",
    "\n",
    "\n",
    "listaCluster = []\n",
    "listaCantones= []\n",
    "for i in df_prueba2.index:\n",
    "    listaCluster.append(df_prueba2.iloc[i][\"Cluster\"])\n",
    "\n",
    "for i in df.index:\n",
    "    listaCantones.append(df.iloc[i]['Canton'])\n",
    "\n",
    "\n",
    "grupos = []\n",
    "for i in range(centers):\n",
    "    grupos.append([])\n",
    "\n",
    "for i in range(len(listaCantones)):\n",
    "    grupos[int(listaCluster[i])].append(listaCantones[i])\n",
    "\n",
    "for i in range(len(grupos)):\n",
    "    print(\"\\n\\n Cantones en el cluster \", i)\n",
    "    for j in range(len(grupos[i])):\n",
    "        print(grupos[i][j], \", \", end = '')"
   ]
  },
  {
   "cell_type": "markdown",
   "metadata": {},
   "source": [
    "### 2.5) Utilización del algoritmo DBSCAN para caracterizar las variables seleccionadas"
   ]
  },
  {
   "cell_type": "code",
   "execution_count": 402,
   "metadata": {},
   "outputs": [
    {
     "name": "stdout",
     "output_type": "stream",
     "text": [
      "\n",
      "\n",
      " Cantones en el cluster  0\n",
      "abangares , acosta , nicoya , poas , pococi , puntarenas , puriscal , san carlos , san isidro , san mateo , san pablo , san rafael , san ramon , santa ana , santa barbara , santa cruz , santo domingo , sarapiqui , siquirres , talamanca , tarrazu , tibas , tilaran , turrialba , turrubares , upala , zarcero , \n",
      "\n",
      " Cantones en el cluster  1\n",
      "alajuela , alajuelita , alvarado , aserri , atenas , bagaces , barva , belen , buenos aires , carrillo , cartago , corredores , coto brus , curridabat , dota , el guarco , esparza , flores , garabito , goicoechea , golfito , grecia , guacimo , guatuso , heredia , hojancha , jimenez , la cruz , la union , liberia , limon , los chiles , matina , montes de oca , montes de oro , mora , moravia , nandayure , naranjo , \n",
      "\n",
      " Cantones en el cluster  2\n",
      "oreamuno , orotina , osa , palmares , paraiso , parrita , perez zeledon , "
     ]
    }
   ],
   "source": [
    "# parametro del radio\n",
    "eps = 20\n",
    "# parametro del minimo de vecinos\n",
    "minPts = 6\n",
    "\n",
    "# Mostrar los datos\n",
    "# copia del dataframe para el analisis\n",
    "df  = pd.DataFrame(df)\n",
    "df_prueba3 = df.drop([\"Canton\"], axis=1)\n",
    "columns = [\"CantidadDelito\", \"TasaOcupacion\"]\n",
    "df_prueba3 = pd.DataFrame(df_prueba3, columns = columns)\n",
    "\n",
    "clustered = cluster_with_stack(eps, minPts, df_prueba3, columns)\n",
    "\n",
    "new_clustered = []\n",
    "for i in range(len(clustered)):\n",
    "    for cluster in clustered:\n",
    "        if (i == cluster[0]):\n",
    "            new_clustered.append(cluster[1])\n",
    "            break\n",
    "idx , cluster = list(zip(*clustered))\n",
    "\n",
    "\n",
    "# Ahora que se realizó el análisis, note como se muestra \n",
    "cluster_df = pd.DataFrame(clustered, columns = [\"idx\", \"cluster\"])\n",
    "\n",
    "\n",
    "## Mostrar resumen de los resultados\n",
    "listaCluster = []\n",
    "listaCantones= []\n",
    "for i in cluster_df.index:\n",
    "    listaCluster.append(cluster_df.iloc[i][\"cluster\"])\n",
    "\n",
    "for i in df.index:\n",
    "    listaCantones.append(df.iloc[i]['Canton'])\n",
    "\n",
    "# calculo de la cantidad de clusters\n",
    "num_clusters = 0\n",
    "for i in new_clustered:\n",
    "    if i > num_clusters:\n",
    "        num_clusters = i\n",
    "num_clusters+=1\n",
    "\n",
    "grupos = []\n",
    "for i in range(num_clusters):\n",
    "    grupos.append([])\n",
    "\n",
    "for i in range(len(listaCantones)):\n",
    "    grupos[int(listaCluster[i])].append(listaCantones[i])\n",
    "\n",
    "for i in range(len(grupos)):\n",
    "    print(\"\\n\\n Cantones en el cluster \", i)\n",
    "    for j in range(len(grupos[i])):\n",
    "        print(grupos[i][j], \", \", end = '')\n"
   ]
  },
  {
   "cell_type": "markdown",
   "metadata": {},
   "source": [
    "### 2.6) Investigación de las formas para evaluar los algoritmos K-Means y DBSCAN"
   ]
  },
  {
   "cell_type": "markdown",
   "metadata": {},
   "source": [
    "Para la validación y evaluación de los resultados de los algoritmos de clustering se tienen dos tipos de validaciones, externas e internas. La principal diferencia entre ambas es que la externa utiliza informaicón externa para la validación del producto con respecto a clasificaciones conocidas y la otra se basa en comparaciones que describen qué tan bien se hicieron los clusters.\n",
    "\n",
    "En la práctica, la información externa por lo general no se encuentra disponible y es por esto que se recurre a un algoritmo de aprendizaje no supervisado. A continuación se dan más detalles de cada técnica.\n",
    "\n",
    "#### Validación interna\n",
    "\n",
    "Como el objetivo del clustering es agrupar objetos similares en el mismo cluster y objetos diferentes en difetentes cluster las técnicas de validación interna están basadas en los siguientes conceptos:\n",
    "\n",
    "- cohesión: Es el grado de similitud entre los miembros de cada cluser.\n",
    "- separación: es el grado de separación entre los miembros de clusters diferentes.\n",
    "\n",
    "La idea de una buena formación de clusters es que se cuente con una alta cohesión y una alta separación.\n",
    "\n",
    "Una de las técnicas de evaluación se llama Sum of Squared Within (SSW) esta corresponde a una medida de cohesión de los clusters que el algoritmo generó. \n",
    "\n",
    "$$SSE = \\displaystyle\\sum_{i=1}^{k} \\displaystyle\\sum_{i\\epsilon C_i} dist^2(m_i,x)$$\n",
    "\n",
    "Donde $k$ es el número de clústers, $x$ es un punto del clúster $C_i$ y $m_i$ es el centroide del clúster $C_i$\n",
    "\n",
    "Otra de las técnicas muy similar pero para medir la separación entre clústers es Sum of Squared Between (SSB). Se calcula de esta forma:\n",
    "\n",
    "$$SSB = \\displaystyle\\sum_{j=1}^{k} n_j \\; dist^2(c_j\\;-\\; \\overline x)$$\n",
    "\n",
    "A continuación se le aplicará la métrica de SSE a ambos algoritmos, emepezando por el de KMeans\n",
    "\n"
   ]
  },
  {
   "cell_type": "code",
   "execution_count": 436,
   "metadata": {},
   "outputs": [
    {
     "name": "stdout",
     "output_type": "stream",
     "text": [
      "SSW para el algoritmo de KMeans:\n",
      "558238.8968928881\n",
      "SSW para el algoritmo de DBSCAN:\n",
      "35020395.45798819\n"
     ]
    }
   ],
   "source": [
    "## Calculo de SSW en los resultados de KMeans\n",
    "\n",
    "df_cluster0 = sqldf.sqldf(\"SELECT * FROM df_prueba2 WHERE Cluster = 0\")\n",
    "df_cluster0 = df_cluster0.drop(columns=[\"Cluster\"], axis=1)\n",
    "df_cluster1 = sqldf.sqldf(\"SELECT * FROM df_prueba2 WHERE Cluster = 1\")\n",
    "df_cluster1 = df_cluster1.drop(columns=[\"Cluster\"], axis=1)\n",
    "df_cluster2 = sqldf.sqldf(\"SELECT * FROM df_prueba2 WHERE Cluster = 2\")\n",
    "df_cluster2 = df_cluster2.drop(columns=[\"Cluster\"], axis=1)\n",
    "\n",
    "cluster_list = [df_cluster0, df_cluster1, df_cluster2]\n",
    "\n",
    "\n",
    "SSW = 0\n",
    "for i in range(len(cluster_list)):\n",
    "    for j in range(len(cluster_list[i].to_numpy())):\n",
    "        SSW += np.sum((kmeans.centroids[i] - cluster_list[i].to_numpy()[j])**2, axis=0)\n",
    "\n",
    "print(\"SSW para el algoritmo de KMeans:\")\n",
    "print(SSW)\n",
    "\n",
    "\n",
    "## Calculo de SSW en los resultados de DBSCAN\n",
    "df_prueba3['Cluster'] = cluster_df['cluster']\n",
    "\n",
    "df_cluster0_DB = sqldf.sqldf(\"SELECT * FROM df_prueba3 WHERE Cluster = 0\")\n",
    "df_cluster0_DB = df_cluster0_DB.drop(columns=[\"Cluster\"], axis=1)\n",
    "df_cluster1_DB = sqldf.sqldf(\"SELECT * FROM df_prueba3 WHERE Cluster = 1\")\n",
    "df_cluster1_DB = df_cluster1_DB.drop(columns=[\"Cluster\"], axis=1)\n",
    "df_cluster2_DB = sqldf.sqldf(\"SELECT * FROM df_prueba3 WHERE Cluster = 2\")\n",
    "df_cluster2_DB = df_cluster2_DB.drop(columns=[\"Cluster\"], axis=1)\n",
    "\n",
    "cluster_DB_list = [df_cluster0_DB, df_cluster1_DB, df_cluster2_DB]\n",
    "centrids_DB = np.array([df_cluster0_DB.to_numpy()[0], df_cluster1_DB.to_numpy()[0],\n",
    "                    df_cluster2_DB.to_numpy()[0]])\n",
    "\n",
    "\n",
    "SSW = 0\n",
    "for i in range(len(cluster_DB_list)):\n",
    "    for j in range(len(cluster_DB_list[i].to_numpy())):\n",
    "        SSW += np.sum((centrids_DB[i] - cluster_DB_list[i].to_numpy()[j])**2, axis=0)\n",
    "\n",
    "print(\"SSW para el algoritmo de DBSCAN:\")\n",
    "print(SSW)\n"
   ]
  },
  {
   "cell_type": "markdown",
   "metadata": {},
   "source": [
    "### 2.7) Compare los resultados de ambos algoritmos y genere y documente sus conclusiones\n",
    "\n",
    "Note que en el caso del KMeans el SSW fue mucho menor, esto se puede deber a que la organización de los datos se ve más favorecida por este algoritmo. Además considere que para este algoritmo se realizó un estudio sobre la cantidad de clusters ideales. El algoritmio de DBSCAN presenta mejores distribuciones en cuanto a densidad pero solamente cuando el arreglo de los datos le permite desempeñase mejor.\n",
    "\n",
    "Como parte de los resultados se pueden comparar los clusters generados por ambos algoritmos en la sección de este documento en donde se corrió cada respectivo algoritmo. Note que sin la necesidad de forzarlo, ambos tienen el mismo número de clusters y ambos con una cantidad similar de cantones por número de cluster. \n",
    "\n",
    "Con base en los resultados y la experiencia del desarrollo de este ejercicio se presentan las siguientes conclusiones:\n",
    "\n",
    "- Los algoritmos de clustering permiten resolver un problema común como lo es explorar un área poco investigada, ya que estos son capaces de clasificar la información sin necesidad de conocer categorías de antemano. En este ejercicio se tomaton dos conjuntos de datos separados y a partir de ellos se pudo llegar a clasificaciones que antes no se conocían.\n",
    "\n",
    "- El desarrollo de estos algoritmo es mejor entre más datos se conozcan sobre cada uno de los cantones, este problema se limitó a 5 variables a considerar pero fue simplemente para que no fuera un proyecto tan complejo y también porque los datos que se tomaron inicialemnte tampoco tenían una cantidad considerable atributos como para hacer la investigación más robusta.\n",
    "\n",
    "- Los algoritmos de KMeans y DBSCAN se diferencian en la forma en que clasifican la información, el de Kmeans trata de enfocarse en la cecanía de los datos mientras que el DBSCAN en la densidad de un conjunto de los mismos. El desempeño de cada algoritmo puede variar dependiendo del conjunto de datos como se pudo mencionar en la sección de resultados.\n",
    "\n",
    "- Las formas en las que se pueden evaluar los algoritmos implementados dependen de la cercanía de los datos en un mismo clusteer y la lejanía con los datos de un clúster aparte. En el caso de este ejemplo se obtuvo una mayor cercanía entre los datos de los clúster para KMeans y esto se debe a la distribución de los datos en este caso."
   ]
  },
  {
   "cell_type": "markdown",
   "metadata": {},
   "source": [
    "## Referencias\n",
    "\n",
    "- Ayuda algoritmo KMeans: https://datascience.stackexchange.com/questions/48693/perform-k-means-clustering-over-multiple-columns\n",
    "\n",
    "- https://towardsdatascience.com/create-your-own-k-means-clustering-algorithm-in-python-d7d4c9077670\n",
    "\n",
    "\n",
    "- Ayuda algoritmo DBSCAN: https://github.com/Moosa-Ali/DBscan-Clustering-Implementation/blob/main/DBSCAN%20implementation.ipynb\n",
    "\n",
    "- Metricas: https://disi.unal.edu.co/~eleonguz/cursos/mda/presentaciones/validacion_Clustering.pdf\n",
    "\n",
    "- numpy documentation: https://numpy.org/doc/\n",
    "\n",
    "- pandas documentation: https://pandas.pydata.org/docs/\n",
    "\n",
    "- clases de la profe\n"
   ]
  }
 ],
 "metadata": {
  "interpreter": {
   "hash": "e868495d694aed0b609784ddbe0f4170fa3a0dc0623318ab45c72f62595d740c"
  },
  "kernelspec": {
   "display_name": "Python 3.9.0 64-bit",
   "language": "python",
   "name": "python3"
  },
  "language_info": {
   "codemirror_mode": {
    "name": "ipython",
    "version": 3
   },
   "file_extension": ".py",
   "mimetype": "text/x-python",
   "name": "python",
   "nbconvert_exporter": "python",
   "pygments_lexer": "ipython3",
   "version": "3.9.0"
  },
  "orig_nbformat": 4
 },
 "nbformat": 4,
 "nbformat_minor": 2
}
